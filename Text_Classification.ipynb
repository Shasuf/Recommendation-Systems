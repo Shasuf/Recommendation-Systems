{
  "nbformat": 4,
  "nbformat_minor": 0,
  "metadata": {
    "colab": {
      "name": "Text Classification.ipynb",
      "provenance": [],
      "authorship_tag": "ABX9TyPRk8UIAgEH4foO9ncz4rp6",
      "include_colab_link": true
    },
    "kernelspec": {
      "name": "python3",
      "display_name": "Python 3"
    },
    "language_info": {
      "name": "python"
    }
  },
  "cells": [
    {
      "cell_type": "markdown",
      "metadata": {
        "id": "view-in-github",
        "colab_type": "text"
      },
      "source": [
        "<a href=\"https://colab.research.google.com/github/Shasuf/Recommendation-Systems/blob/main/Text_Classification.ipynb\" target=\"_parent\"><img src=\"https://colab.research.google.com/assets/colab-badge.svg\" alt=\"Open In Colab\"/></a>"
      ]
    },
    {
      "cell_type": "code",
      "execution_count": 5,
      "metadata": {
        "colab": {
          "base_uri": "https://localhost:8080/"
        },
        "id": "R4AAUR22OPNo",
        "outputId": "674d5ebc-7ac6-453a-bcad-f034d59b8695"
      },
      "outputs": [
        {
          "output_type": "stream",
          "name": "stdout",
          "text": [
            "\n",
            "*** Import Libraries ***\n",
            "Done ...\n"
          ]
        }
      ],
      "source": [
        "# import libraries\n",
        "print(\"\\n*** Import Libraries ***\")\n",
        "# hides all warnings\n",
        "import warnings\n",
        "warnings.filterwarnings('ignore')\n",
        "# pandas \n",
        "import pandas as pd\n",
        "# numpy\n",
        "import numpy as np\n",
        "# matplotlib \n",
        "import matplotlib.pyplot as plt\n",
        "#%matplotlib inline\n",
        "plt.style.use('ggplot')\n",
        "plt.rcParams['figure.figsize'] = (10, 5)\n",
        "# sns\n",
        "import seaborn as sns\n",
        "print(\"Done ...\")\n"
      ]
    },
    {
      "cell_type": "code",
      "source": [
        "# import utils stored in g-drive / My Drive  / Collab Notebooks\n",
        "print(\"\\n*** Import Utils ***\")\n",
        "import sys\n",
        "from google.colab import drive\n",
        "drive.mount('/content/gdrive')\n",
        "# To add a directory with your code into a list of directories \n",
        "# which will be searched for packages\n",
        "sys.path.append('/content/gdrive/My Drive/Colab Notebooks')\n",
        "import utils\n",
        "print(\"Done ...\")\n",
        "\n",
        "##############################################"
      ],
      "metadata": {
        "colab": {
          "base_uri": "https://localhost:8080/"
        },
        "id": "Xa686B7JRBxt",
        "outputId": "ff48d0bd-5c15-464f-935f-557499d3e7c8"
      },
      "execution_count": 6,
      "outputs": [
        {
          "output_type": "stream",
          "name": "stdout",
          "text": [
            "\n",
            "*** Import Utils ***\n",
            "Drive already mounted at /content/gdrive; to attempt to forcibly remount, call drive.mount(\"/content/gdrive\", force_remount=True).\n",
            "Done ...\n"
          ]
        }
      ]
    },
    {
      "cell_type": "code",
      "source": [
        "print(\"\\n*** Read Data ***\")\n",
        "df = pd.read_csv('/content/gdrive/MyDrive/Colab Notebooks/data/mldb-movies-metadata.csv', low_memory=False) # when we use large amount of data\n",
        "print(\"Done ...\")\n"
      ],
      "metadata": {
        "colab": {
          "base_uri": "https://localhost:8080/"
        },
        "id": "8YPJF0q4RGAR",
        "outputId": "9c4f08bf-d812-4af2-dfcc-b6fc78101378"
      },
      "execution_count": 7,
      "outputs": [
        {
          "output_type": "stream",
          "name": "stdout",
          "text": [
            "\n",
            "*** Read Data ***\n",
            "Done ...\n"
          ]
        }
      ]
    },
    {
      "cell_type": "code",
      "source": [
        "\n",
        "##############################################################\n",
        "# Exploratory Data Analysis\n",
        "##############################################################\n",
        "\n",
        "# rows & cols\n",
        "print(\"\\n*** Rows & Cols ***\")\n",
        "print(\"Rows\",df.shape[0])\n",
        "print(\"Cols\",df.shape[1])"
      ],
      "metadata": {
        "colab": {
          "base_uri": "https://localhost:8080/"
        },
        "id": "PoS-d4oXTgwb",
        "outputId": "6e075b71-bf8f-49fb-fb7f-96b83d766049"
      },
      "execution_count": 8,
      "outputs": [
        {
          "output_type": "stream",
          "name": "stdout",
          "text": [
            "\n",
            "*** Rows & Cols ***\n",
            "Rows 45460\n",
            "Cols 24\n"
          ]
        }
      ]
    },
    {
      "cell_type": "code",
      "source": [
        "# columns\n",
        "print(\"\\n*** Column Names ***\")\n",
        "print(df.columns)\n"
      ],
      "metadata": {
        "colab": {
          "base_uri": "https://localhost:8080/"
        },
        "id": "GhMys4p3ToJX",
        "outputId": "4b0c3790-ee72-471c-9942-d6b983a94a74"
      },
      "execution_count": 9,
      "outputs": [
        {
          "output_type": "stream",
          "name": "stdout",
          "text": [
            "\n",
            "*** Column Names ***\n",
            "Index(['adult', 'belongs_to_collection', 'budget', 'genres', 'homepage', 'id',\n",
            "       'imdb_id', 'original_language', 'original_title', 'overview',\n",
            "       'popularity', 'poster_path', 'production_companies',\n",
            "       'production_countries', 'release_date', 'revenue', 'runtime',\n",
            "       'spoken_languages', 'status', 'tagline', 'title', 'video',\n",
            "       'vote_average', 'vote_count'],\n",
            "      dtype='object')\n"
          ]
        }
      ]
    },
    {
      "cell_type": "code",
      "source": [
        "# info\n",
        "print(\"\\n*** Structure ***\")\n",
        "print(df.info())"
      ],
      "metadata": {
        "colab": {
          "base_uri": "https://localhost:8080/"
        },
        "id": "YXl3fTaoToSP",
        "outputId": "49f85654-e4ca-473f-d126-24d55a059bb1"
      },
      "execution_count": 10,
      "outputs": [
        {
          "output_type": "stream",
          "name": "stdout",
          "text": [
            "\n",
            "*** Structure ***\n",
            "<class 'pandas.core.frame.DataFrame'>\n",
            "RangeIndex: 45460 entries, 0 to 45459\n",
            "Data columns (total 24 columns):\n",
            " #   Column                 Non-Null Count  Dtype  \n",
            "---  ------                 --------------  -----  \n",
            " 0   adult                  45460 non-null  bool   \n",
            " 1   belongs_to_collection  4490 non-null   object \n",
            " 2   budget                 45460 non-null  int64  \n",
            " 3   genres                 45460 non-null  object \n",
            " 4   homepage               7778 non-null   object \n",
            " 5   id                     45460 non-null  int64  \n",
            " 6   imdb_id                45443 non-null  object \n",
            " 7   original_language      45449 non-null  object \n",
            " 8   original_title         45460 non-null  object \n",
            " 9   overview               44506 non-null  object \n",
            " 10  popularity             45460 non-null  float64\n",
            " 11  poster_path            45077 non-null  object \n",
            " 12  production_companies   45460 non-null  object \n",
            " 13  production_countries   45460 non-null  object \n",
            " 14  release_date           45376 non-null  object \n",
            " 15  revenue                45460 non-null  int64  \n",
            " 16  runtime                45203 non-null  float64\n",
            " 17  spoken_languages       45460 non-null  object \n",
            " 18  status                 45379 non-null  object \n",
            " 19  tagline                20412 non-null  object \n",
            " 20  title                  45460 non-null  object \n",
            " 21  video                  45460 non-null  bool   \n",
            " 22  vote_average           45460 non-null  float64\n",
            " 23  vote_count             45460 non-null  int64  \n",
            "dtypes: bool(2), float64(3), int64(4), object(15)\n",
            "memory usage: 7.7+ MB\n",
            "None\n"
          ]
        }
      ]
    },
    {
      "cell_type": "code",
      "source": [
        "# data types\n",
        "print(\"\\n*** Data Types ***\")\n",
        "print(df.dtypes)"
      ],
      "metadata": {
        "colab": {
          "base_uri": "https://localhost:8080/"
        },
        "id": "EsC4qWZrToVB",
        "outputId": "f2f56fe8-6a90-4c69-a37a-c7f2cb9924e1"
      },
      "execution_count": 11,
      "outputs": [
        {
          "output_type": "stream",
          "name": "stdout",
          "text": [
            "\n",
            "*** Data Types ***\n",
            "adult                       bool\n",
            "belongs_to_collection     object\n",
            "budget                     int64\n",
            "genres                    object\n",
            "homepage                  object\n",
            "id                         int64\n",
            "imdb_id                   object\n",
            "original_language         object\n",
            "original_title            object\n",
            "overview                  object\n",
            "popularity               float64\n",
            "poster_path               object\n",
            "production_companies      object\n",
            "production_countries      object\n",
            "release_date              object\n",
            "revenue                    int64\n",
            "runtime                  float64\n",
            "spoken_languages          object\n",
            "status                    object\n",
            "tagline                   object\n",
            "title                     object\n",
            "video                       bool\n",
            "vote_average             float64\n",
            "vote_count                 int64\n",
            "dtype: object\n"
          ]
        }
      ]
    },
    {
      "cell_type": "code",
      "source": [
        "# head\n",
        "print(\"\\n*** Head ***\")\n",
        "print(df.head())\n"
      ],
      "metadata": {
        "colab": {
          "base_uri": "https://localhost:8080/"
        },
        "id": "8p4FQlLtToax",
        "outputId": "f6ea11d4-9f12-4a8f-98b3-1234528b50c5"
      },
      "execution_count": 12,
      "outputs": [
        {
          "output_type": "stream",
          "name": "stdout",
          "text": [
            "\n",
            "*** Head ***\n",
            "   adult                              belongs_to_collection    budget  \\\n",
            "0  False  {'id': 10194, 'name': 'Toy Story Collection', ...  30000000   \n",
            "1  False                                                NaN  65000000   \n",
            "2  False  {'id': 119050, 'name': 'Grumpy Old Men Collect...         0   \n",
            "3  False                                                NaN  16000000   \n",
            "4  False  {'id': 96871, 'name': 'Father of the Bride Col...         0   \n",
            "\n",
            "                                              genres  \\\n",
            "0  [{'id': 16, 'name': 'Animation'}, {'id': 35, '...   \n",
            "1  [{'id': 12, 'name': 'Adventure'}, {'id': 14, '...   \n",
            "2  [{'id': 10749, 'name': 'Romance'}, {'id': 35, ...   \n",
            "3  [{'id': 35, 'name': 'Comedy'}, {'id': 18, 'nam...   \n",
            "4                     [{'id': 35, 'name': 'Comedy'}]   \n",
            "\n",
            "                               homepage     id    imdb_id original_language  \\\n",
            "0  http://toystory.disney.com/toy-story    862  tt0114709                en   \n",
            "1                                   NaN   8844  tt0113497                en   \n",
            "2                                   NaN  15602  tt0113228                en   \n",
            "3                                   NaN  31357  tt0114885                en   \n",
            "4                                   NaN  11862  tt0113041                en   \n",
            "\n",
            "                original_title  \\\n",
            "0                    Toy Story   \n",
            "1                      Jumanji   \n",
            "2             Grumpier Old Men   \n",
            "3            Waiting to Exhale   \n",
            "4  Father of the Bride Part II   \n",
            "\n",
            "                                            overview  ...  release_date  \\\n",
            "0  Led by Woody, Andy's toys live happily in his ...  ...    30-10-1995   \n",
            "1  When siblings Judy and Peter discover an encha...  ...    15-12-1995   \n",
            "2  A family wedding reignites the ancient feud be...  ...    22-12-1995   \n",
            "3  Cheated on, mistreated and stepped on, the wom...  ...    22-12-1995   \n",
            "4  Just when George Banks has recovered from his ...  ...    10-02-1995   \n",
            "\n",
            "     revenue runtime                                   spoken_languages  \\\n",
            "0  373554033    81.0           [{'iso_639_1': 'en', 'name': 'English'}]   \n",
            "1  262797249   104.0  [{'iso_639_1': 'en', 'name': 'English'}, {'iso...   \n",
            "2          0   101.0           [{'iso_639_1': 'en', 'name': 'English'}]   \n",
            "3   81452156   127.0           [{'iso_639_1': 'en', 'name': 'English'}]   \n",
            "4   76578911   106.0           [{'iso_639_1': 'en', 'name': 'English'}]   \n",
            "\n",
            "     status                                            tagline  \\\n",
            "0  Released                                                NaN   \n",
            "1  Released          Roll the dice and unleash the excitement!   \n",
            "2  Released  Still Yelling. Still Fighting. Still Ready for...   \n",
            "3  Released  Friends are the people who let you be yourself...   \n",
            "4  Released  Just When His World Is Back To Normal... He's ...   \n",
            "\n",
            "                         title  video vote_average vote_count  \n",
            "0                    Toy Story  False          7.7       5415  \n",
            "1                      Jumanji  False          6.9       2413  \n",
            "2             Grumpier Old Men  False          6.5         92  \n",
            "3            Waiting to Exhale  False          6.1         34  \n",
            "4  Father of the Bride Part II  False          5.7        173  \n",
            "\n",
            "[5 rows x 24 columns]\n"
          ]
        }
      ]
    },
    {
      "cell_type": "code",
      "source": [
        "# head\n",
        "print(df[['title','overview']].head())   #we only need title and overview"
      ],
      "metadata": {
        "colab": {
          "base_uri": "https://localhost:8080/"
        },
        "id": "JSQD9zdWTodW",
        "outputId": "b2370ad1-dedd-472f-d801-2893884a5e8a"
      },
      "execution_count": 13,
      "outputs": [
        {
          "output_type": "stream",
          "name": "stdout",
          "text": [
            "                         title  \\\n",
            "0                    Toy Story   \n",
            "1                      Jumanji   \n",
            "2             Grumpier Old Men   \n",
            "3            Waiting to Exhale   \n",
            "4  Father of the Bride Part II   \n",
            "\n",
            "                                            overview  \n",
            "0  Led by Woody, Andy's toys live happily in his ...  \n",
            "1  When siblings Judy and Peter discover an encha...  \n",
            "2  A family wedding reignites the ancient feud be...  \n",
            "3  Cheated on, mistreated and stepped on, the wom...  \n",
            "4  Just when George Banks has recovered from his ...  \n"
          ]
        }
      ]
    },
    {
      "cell_type": "code",
      "source": [
        "# set variables\n",
        "print(\"\\n*** Set Vars ***\")\n",
        "varTitle = 'title'\n",
        "varTexts = 'overview'\n",
        "print('Title   :',varTitle)\n",
        "print('Texts   :',varTexts)"
      ],
      "metadata": {
        "colab": {
          "base_uri": "https://localhost:8080/"
        },
        "id": "jaxxr2bjUJRZ",
        "outputId": "7b31c280-8a52-4f42-d48a-04c326069a74"
      },
      "execution_count": 14,
      "outputs": [
        {
          "output_type": "stream",
          "name": "stdout",
          "text": [
            "\n",
            "*** Set Vars ***\n",
            "Title   : title\n",
            "Texts   : overview\n"
          ]
        }
      ]
    },
    {
      "cell_type": "code",
      "source": [
        "# handle nulls in key cols \n",
        "print(\"\\n*** Handle Nulls Imp Cols ***\")\n",
        "# cols to drop\n",
        "colNames = [varTitle, varTexts]\n",
        "# drop NaN\n",
        "df = df.dropna(subset=colNames)\n",
        "print(\"Done ...\")"
      ],
      "metadata": {
        "colab": {
          "base_uri": "https://localhost:8080/"
        },
        "id": "hUT_avjeTofb",
        "outputId": "c3b5cccc-0122-4f1e-f5a1-c5ea5c12d291"
      },
      "execution_count": 15,
      "outputs": [
        {
          "output_type": "stream",
          "name": "stdout",
          "text": [
            "\n",
            "*** Handle Nulls Imp Cols ***\n",
            "Done ...\n"
          ]
        }
      ]
    },
    {
      "cell_type": "code",
      "source": [
        "# handle duplicate titles\n",
        "print(\"\\n*** Remove Duplicate Titles ***\")\n",
        "df = df.drop_duplicates(subset=varTitle)\n",
        "print(\"Done ...\")"
      ],
      "metadata": {
        "colab": {
          "base_uri": "https://localhost:8080/"
        },
        "id": "GFe4Fr5ETojG",
        "outputId": "3dae5013-7f31-477f-9575-0fd06720e628"
      },
      "execution_count": 16,
      "outputs": [
        {
          "output_type": "stream",
          "name": "stdout",
          "text": [
            "\n",
            "*** Remove Duplicate Titles ***\n",
            "Done ...\n"
          ]
        }
      ]
    },
    {
      "cell_type": "code",
      "source": [
        "# convert into lowercase\n",
        "print(\"\\n*** Lower Case ***\")\n",
        "df[varTexts] = [t.lower() for t in df[varTexts]]\n",
        "print(df[varTexts].head())"
      ],
      "metadata": {
        "colab": {
          "base_uri": "https://localhost:8080/"
        },
        "id": "icaZ7VPITolb",
        "outputId": "f8ab4349-7d25-42e8-b7ea-5a6fd75daedb"
      },
      "execution_count": 17,
      "outputs": [
        {
          "output_type": "stream",
          "name": "stdout",
          "text": [
            "\n",
            "*** Lower Case ***\n",
            "0    led by woody, andy's toys live happily in his ...\n",
            "1    when siblings judy and peter discover an encha...\n",
            "2    a family wedding reignites the ancient feud be...\n",
            "3    cheated on, mistreated and stepped on, the wom...\n",
            "4    just when george banks has recovered from his ...\n",
            "Name: overview, dtype: object\n"
          ]
        }
      ]
    },
    {
      "cell_type": "code",
      "source": [
        "# remove punctuations\n",
        "print(\"\\n*** Remove Punctuations ***\")\n",
        "import string\n",
        "df[varTexts] = [t.translate(str.maketrans('','',string.punctuation)) for t in df[varTexts]]\n",
        "print(df[varTexts].head())\n"
      ],
      "metadata": {
        "colab": {
          "base_uri": "https://localhost:8080/"
        },
        "id": "GZ2KTsFBTooT",
        "outputId": "1c8b8e19-d6f3-425b-ff2e-9615304f4391"
      },
      "execution_count": 18,
      "outputs": [
        {
          "output_type": "stream",
          "name": "stdout",
          "text": [
            "\n",
            "*** Remove Punctuations ***\n",
            "0    led by woody andys toys live happily in his ro...\n",
            "1    when siblings judy and peter discover an encha...\n",
            "2    a family wedding reignites the ancient feud be...\n",
            "3    cheated on mistreated and stepped on the women...\n",
            "4    just when george banks has recovered from his ...\n",
            "Name: overview, dtype: object\n"
          ]
        }
      ]
    },
    {
      "cell_type": "code",
      "source": [
        "import nltk\n",
        "nltk.download('stopwords')"
      ],
      "metadata": {
        "colab": {
          "base_uri": "https://localhost:8080/"
        },
        "id": "GcsPesHsVgyI",
        "outputId": "455207ca-5b80-48a5-e836-095955215e15"
      },
      "execution_count": 19,
      "outputs": [
        {
          "output_type": "stream",
          "name": "stdout",
          "text": [
            "[nltk_data] Downloading package stopwords to /root/nltk_data...\n",
            "[nltk_data]   Package stopwords is already up-to-date!\n"
          ]
        },
        {
          "output_type": "execute_result",
          "data": {
            "text/plain": [
              "True"
            ]
          },
          "metadata": {},
          "execution_count": 19
        }
      ]
    },
    {
      "cell_type": "code",
      "source": [
        "# remove all stop words\n",
        "# original found at http://en.wikipedia.org/wiki/Stop_words\n",
        "print('\\n*** Remove Stop Words ***')\n",
        "#def stop words\n",
        "import nltk.corpus\n",
        "lStopWords = nltk.corpus.stopwords.words('english')\n",
        "# def function\n",
        "def remStopWords(sText):\n",
        "    global lStopWords\n",
        "    lText = sText.split()\n",
        "    lText = [t for t in lText if t not in lStopWords]    \n",
        "    return (' '.join(lText))"
      ],
      "metadata": {
        "colab": {
          "base_uri": "https://localhost:8080/"
        },
        "id": "NVd5A5Z7Vjzl",
        "outputId": "a7e76c80-e14a-46ea-de17-d5366eb275e2"
      },
      "execution_count": 20,
      "outputs": [
        {
          "output_type": "stream",
          "name": "stdout",
          "text": [
            "\n",
            "*** Remove Stop Words ***\n"
          ]
        }
      ]
    },
    {
      "cell_type": "code",
      "source": [
        "# iterate\n",
        "df[varTexts] = [remStopWords(t) for t in df[varTexts]]\n",
        "print(df[varTexts].head())"
      ],
      "metadata": {
        "colab": {
          "base_uri": "https://localhost:8080/"
        },
        "id": "msTZ9XCxVonw",
        "outputId": "32be07d4-b5d7-44dc-acb7-c6638951ac32"
      },
      "execution_count": 21,
      "outputs": [
        {
          "output_type": "stream",
          "name": "stdout",
          "text": [
            "0    led woody andys toys live happily room andys b...\n",
            "1    siblings judy peter discover enchanted board g...\n",
            "2    family wedding reignites ancient feud nextdoor...\n",
            "3    cheated mistreated stepped women holding breat...\n",
            "4    george banks recovered daughters wedding recei...\n",
            "Name: overview, dtype: object\n"
          ]
        }
      ]
    },
    {
      "cell_type": "code",
      "source": [
        "# remove all bad words / pofanities ...\n",
        "# original found at http://en.wiktionary.org/wiki/Category:English_swear_words\n",
        "print('\\n*** Remove Profane Words ***')\n",
        "lProfWords = [\"arse\",\"ass\",\"asshole\",\"bastard\",\"bitch\",\"bloody\",\"bollocks\",\"child-fucker\",\"cunt\",\"damn\",\"fuck\",\"goddamn\",\"godsdamn\",\"hell\",\"motherfucker\",\"shit\",\"shitass\",\"whore\"]\n",
        "# def function\n",
        "def remProfWords(sText):\n",
        "    global lProfWords\n",
        "    lText = sText.split()\n",
        "    lText = [t for t in lText if t not in lProfWords]    \n",
        "    return (' '.join(lText))\n",
        "    # iterate\n",
        "df[varTexts] = [remProfWords(t) for t in df[varTexts]]\n",
        "print(df[varTexts].head())"
      ],
      "metadata": {
        "colab": {
          "base_uri": "https://localhost:8080/"
        },
        "id": "k5vNCDHXVsxj",
        "outputId": "81e9a302-d4c4-4dbe-c182-59b342fb1ef4"
      },
      "execution_count": 22,
      "outputs": [
        {
          "output_type": "stream",
          "name": "stdout",
          "text": [
            "\n",
            "*** Remove Profane Words ***\n",
            "0    led woody andys toys live happily room andys b...\n",
            "1    siblings judy peter discover enchanted board g...\n",
            "2    family wedding reignites ancient feud nextdoor...\n",
            "3    cheated mistreated stepped women holding breat...\n",
            "4    george banks recovered daughters wedding recei...\n",
            "Name: overview, dtype: object\n"
          ]
        }
      ]
    },
    {
      "cell_type": "code",
      "source": [
        "# retain words with len > 3\n",
        "print('\\n*** Remove Short Words ***')\n",
        "# def function\n",
        "def remShortWords(sText):\n",
        "    lText = sText.split()\n",
        "    lText = [t for t in lText if len(t)>3]    \n",
        "    return (' '.join(lText))\n",
        "# iterate\n",
        "df[varTexts] = [remShortWords(t) for t in df[varTexts]]\n",
        "print(df[varTexts].head())"
      ],
      "metadata": {
        "colab": {
          "base_uri": "https://localhost:8080/"
        },
        "id": "QlDF0i-lVx9l",
        "outputId": "bc39a0e1-a2f2-48ba-9b4c-95c522006c5a"
      },
      "execution_count": 23,
      "outputs": [
        {
          "output_type": "stream",
          "name": "stdout",
          "text": [
            "\n",
            "*** Remove Short Words ***\n",
            "0    woody andys toys live happily room andys birth...\n",
            "1    siblings judy peter discover enchanted board g...\n",
            "2    family wedding reignites ancient feud nextdoor...\n",
            "3    cheated mistreated stepped women holding breat...\n",
            "4    george banks recovered daughters wedding recei...\n",
            "Name: overview, dtype: object\n"
          ]
        }
      ]
    },
    {
      "cell_type": "code",
      "source": [
        "# info\n",
        "print(\"\\n*** Structure ***\")\n",
        "print(df.info())"
      ],
      "metadata": {
        "colab": {
          "base_uri": "https://localhost:8080/"
        },
        "id": "qX8Fh9LHV7xO",
        "outputId": "435cd41e-05e3-4315-f441-d8bfe747fa83"
      },
      "execution_count": 24,
      "outputs": [
        {
          "output_type": "stream",
          "name": "stdout",
          "text": [
            "\n",
            "*** Structure ***\n",
            "<class 'pandas.core.frame.DataFrame'>\n",
            "Int64Index: 41369 entries, 0 to 45459\n",
            "Data columns (total 24 columns):\n",
            " #   Column                 Non-Null Count  Dtype  \n",
            "---  ------                 --------------  -----  \n",
            " 0   adult                  41369 non-null  bool   \n",
            " 1   belongs_to_collection  4301 non-null   object \n",
            " 2   budget                 41369 non-null  int64  \n",
            " 3   genres                 41369 non-null  object \n",
            " 4   homepage               7224 non-null   object \n",
            " 5   id                     41369 non-null  int64  \n",
            " 6   imdb_id                41355 non-null  object \n",
            " 7   original_language      41359 non-null  object \n",
            " 8   original_title         41369 non-null  object \n",
            " 9   overview               41369 non-null  object \n",
            " 10  popularity             41369 non-null  float64\n",
            " 11  poster_path            41038 non-null  object \n",
            " 12  production_companies   41369 non-null  object \n",
            " 13  production_countries   41369 non-null  object \n",
            " 14  release_date           41301 non-null  object \n",
            " 15  revenue                41369 non-null  int64  \n",
            " 16  runtime                41369 non-null  float64\n",
            " 17  spoken_languages       41369 non-null  object \n",
            " 18  status                 41307 non-null  object \n",
            " 19  tagline                19045 non-null  object \n",
            " 20  title                  41369 non-null  object \n",
            " 21  video                  41369 non-null  bool   \n",
            " 22  vote_average           41369 non-null  float64\n",
            " 23  vote_count             41369 non-null  int64  \n",
            "dtypes: bool(2), float64(3), int64(4), object(15)\n",
            "memory usage: 7.3+ MB\n",
            "None\n"
          ]
        }
      ]
    },
    {
      "cell_type": "code",
      "source": [
        "# print varTexts \n",
        "print(\"\\n*** varTexts Head ***\")\n",
        "print(df[varTexts].head())\n",
        "for i in range(0, 5):\n",
        "    print(df[varTexts][i],'\\n')\n",
        "print(\"Done ...\")\n"
      ],
      "metadata": {
        "colab": {
          "base_uri": "https://localhost:8080/"
        },
        "id": "GQ9L-abBWErP",
        "outputId": "d5a6046b-26a2-400d-b0d1-d613d8c09e75"
      },
      "execution_count": 25,
      "outputs": [
        {
          "output_type": "stream",
          "name": "stdout",
          "text": [
            "\n",
            "*** varTexts Head ***\n",
            "0    woody andys toys live happily room andys birth...\n",
            "1    siblings judy peter discover enchanted board g...\n",
            "2    family wedding reignites ancient feud nextdoor...\n",
            "3    cheated mistreated stepped women holding breat...\n",
            "4    george banks recovered daughters wedding recei...\n",
            "Name: overview, dtype: object\n",
            "woody andys toys live happily room andys birthday brings buzz lightyear onto scene afraid losing place andys heart woody plots buzz circumstances separate buzz woody owner eventually learns aside differences \n",
            "\n",
            "siblings judy peter discover enchanted board game opens door magical world unwittingly invite alan adult whos trapped inside game years living room alans hope freedom finish game proves risky three find running giant rhinoceroses evil monkeys terrifying creatures \n",
            "\n",
            "family wedding reignites ancient feud nextdoor neighbors fishing buddies john meanwhile sultry italian divorcée opens restaurant local bait shop alarming locals worry shell scare fish away shes less interested seafood cooking time \n",
            "\n",
            "cheated mistreated stepped women holding breath waiting elusive good break string lessthanstellar lovers friends confidants vannah bernie robin talk determined find better breathe \n",
            "\n",
            "george banks recovered daughters wedding receives news shes pregnant georges wife nina expecting planning selling home thats plan like george change arrival grandchild \n",
            "\n",
            "Done ...\n"
          ]
        }
      ]
    },
    {
      "cell_type": "code",
      "source": [
        "##################################################\n",
        "# Content-Based Recommender Engine - Using CountVectorizer & Cosine Similarity\n",
        "##################################################\n",
        "# Recommender System based on similarity in columns varTexts\n",
        "# a system that recommends items that are similar to a particular movie more\n",
        "# specifically, pairwise similarity scores are computed for all items based\n",
        "# on their plot descriptions and recommend items based on that similarity score.\n",
        "\n",
        "# In its current form, it is not possible to compute the similarity between any \n",
        "# two text unit. To do this, we need to compute the word vectors of each text unit \n",
        "# or document, as it will be called from now on.\n",
        "\n",
        "# We will use CountVectoriser learnt in NLP vectors for each document. This will \n",
        "# give you a matrix which stores similarity score for each movie pair\n",
        "#\n",
        "# scikit-learn gives you a built-in CountVectorizer class that produces the \n",
        "# matrix in a couple of lines.\n",
        "\n",
        "# the next step is to create a count matrix using CountVectorizer() \n"
      ],
      "metadata": {
        "id": "c4f810y1WHd5"
      },
      "execution_count": null,
      "outputs": []
    },
    {
      "cell_type": "code",
      "source": [
        "# import CountVectorizer and create the count matrix\n",
        "print(\"\\n*** Imports ***\")\n",
        "from sklearn.feature_extraction.text import CountVectorizer\n",
        "from sklearn.metrics.pairwise import cosine_similarity\n",
        "print(\"Done ...\")\n"
      ],
      "metadata": {
        "colab": {
          "base_uri": "https://localhost:8080/"
        },
        "id": "s2bFNYreWMhD",
        "outputId": "cfe03d7b-33d2-4a71-f657-b5ec0a8dbea3"
      },
      "execution_count": 26,
      "outputs": [
        {
          "output_type": "stream",
          "name": "stdout",
          "text": [
            "\n",
            "*** Imports ***\n",
            "Done ...\n"
          ]
        }
      ]
    },
    {
      "cell_type": "code",
      "source": [
        "# use CountVectorizer\n",
        "print(\"\\n*** Count Vactorizer ***\")\n",
        "count = CountVectorizer(stop_words='english')\n",
        "count_matrix = count.fit_transform(df[varTexts])\n",
        "print(count_matrix.shape)\n",
        "print(\"Done ...\")\n"
      ],
      "metadata": {
        "colab": {
          "base_uri": "https://localhost:8080/"
        },
        "id": "4zyas7NgWQ98",
        "outputId": "2a13c360-aec8-46a5-cc1f-1c35464c2c2c"
      },
      "execution_count": 27,
      "outputs": [
        {
          "output_type": "stream",
          "name": "stdout",
          "text": [
            "\n",
            "*** Count Vactorizer ***\n",
            "(41369, 85231)\n",
            "Done ...\n"
          ]
        }
      ]
    },
    {
      "cell_type": "code",
      "source": [
        "# output the shape of tfidf_matrix\n",
        "print(\"\\n*** Count Matrix Properties ***\")\n",
        "print(\"Shape:\",count_matrix.shape)\n",
        "print(\"Words:\",count_matrix.shape[0])\n",
        "print(\"Docs :\",count_matrix.shape[1])"
      ],
      "metadata": {
        "colab": {
          "base_uri": "https://localhost:8080/"
        },
        "id": "d0GvimFlX6ow",
        "outputId": "50927dd2-6836-45bd-f971-f9f1500d4e29"
      },
      "execution_count": 28,
      "outputs": [
        {
          "output_type": "stream",
          "name": "stdout",
          "text": [
            "\n",
            "*** Count Matrix Properties ***\n",
            "Shape: (41369, 85231)\n",
            "Words: 41369\n",
            "Docs : 85231\n"
          ]
        }
      ]
    },
    {
      "cell_type": "code",
      "source": [
        "# print\n",
        "print(\"\\n*** Count Matrix Sample - Top 5 ***\")\n",
        "print(count_matrix[0:5])\n"
      ],
      "metadata": {
        "colab": {
          "base_uri": "https://localhost:8080/"
        },
        "id": "WFzVxZmPX6rF",
        "outputId": "474db23b-35e5-4c22-e5b5-9fb175c43935"
      },
      "execution_count": 29,
      "outputs": [
        {
          "output_type": "stream",
          "name": "stdout",
          "text": [
            "\n",
            "*** Count Matrix Sample - Top 5 ***\n",
            "  (0, 82873)\t3\n",
            "  (0, 3754)\t3\n",
            "  (0, 76774)\t1\n",
            "  (0, 43835)\t1\n",
            "  (0, 32449)\t1\n",
            "  (0, 64123)\t1\n",
            "  (0, 8537)\t1\n",
            "  (0, 10304)\t1\n",
            "  (0, 11179)\t3\n",
            "  (0, 43485)\t1\n",
            "  (0, 65969)\t1\n",
            "  (0, 2215)\t1\n",
            "  (0, 44334)\t1\n",
            "  (0, 57428)\t1\n",
            "  (0, 33046)\t1\n",
            "  (0, 57645)\t1\n",
            "  (0, 14072)\t1\n",
            "  (0, 67200)\t1\n",
            "  (0, 54891)\t1\n",
            "  (0, 24398)\t1\n",
            "  (0, 42704)\t1\n",
            "  (0, 5149)\t1\n",
            "  (0, 19938)\t1\n",
            "  (1, 64123)\t1\n",
            "  (1, 68567)\t1\n",
            "  :\t:\n",
            "  (3, 19538)\t1\n",
            "  (3, 8102)\t1\n",
            "  (3, 10115)\t1\n",
            "  (4, 81740)\t1\n",
            "  (4, 67985)\t1\n",
            "  (4, 29428)\t2\n",
            "  (4, 6651)\t1\n",
            "  (4, 61747)\t1\n",
            "  (4, 18221)\t1\n",
            "  (4, 61601)\t1\n",
            "  (4, 51977)\t1\n",
            "  (4, 58760)\t1\n",
            "  (4, 29430)\t1\n",
            "  (4, 82325)\t1\n",
            "  (4, 52260)\t1\n",
            "  (4, 24874)\t1\n",
            "  (4, 57488)\t1\n",
            "  (4, 66990)\t1\n",
            "  (4, 34304)\t1\n",
            "  (4, 75332)\t1\n",
            "  (4, 57465)\t1\n",
            "  (4, 43498)\t1\n",
            "  (4, 12995)\t1\n",
            "  (4, 4923)\t1\n",
            "  (4, 30761)\t1\n"
          ]
        }
      ]
    },
    {
      "cell_type": "code",
      "source": [
        "# print\n",
        "print(\"\\n*** Count Matrix Sample - Bot 5 ***\")\n",
        "print(count_matrix[-5:-1])"
      ],
      "metadata": {
        "colab": {
          "base_uri": "https://localhost:8080/"
        },
        "id": "sbj861FOX6vW",
        "outputId": "afba9ab9-16bc-4e00-feae-d3144c215017"
      },
      "execution_count": 30,
      "outputs": [
        {
          "output_type": "stream",
          "name": "stdout",
          "text": [
            "\n",
            "*** Count Matrix Sample - Bot 5 ***\n",
            "  (0, 83480)\t1\n",
            "  (0, 67985)\t1\n",
            "  (0, 82798)\t1\n",
            "  (0, 1619)\t1\n",
            "  (0, 1727)\t1\n",
            "  (0, 82963)\t1\n",
            "  (0, 81391)\t1\n",
            "  (0, 26489)\t1\n",
            "  (0, 26025)\t1\n",
            "  (0, 17976)\t1\n",
            "  (0, 75720)\t1\n",
            "  (0, 16981)\t1\n",
            "  (0, 83465)\t1\n",
            "  (0, 20895)\t1\n",
            "  (0, 22315)\t1\n",
            "  (0, 74199)\t1\n",
            "  (0, 70348)\t1\n",
            "  (0, 59114)\t1\n",
            "  (0, 28804)\t1\n",
            "  (0, 43446)\t1\n",
            "  (0, 57065)\t2\n",
            "  (0, 42804)\t1\n",
            "  (0, 15201)\t1\n",
            "  (0, 28660)\t1\n",
            "  (0, 48283)\t1\n",
            "  :\t:\n",
            "  (3, 1538)\t1\n",
            "  (3, 72204)\t1\n",
            "  (3, 60066)\t1\n",
            "  (3, 72211)\t2\n",
            "  (3, 25363)\t1\n",
            "  (3, 21553)\t1\n",
            "  (3, 48713)\t5\n",
            "  (3, 74264)\t1\n",
            "  (3, 72212)\t1\n",
            "  (3, 75311)\t1\n",
            "  (3, 67927)\t1\n",
            "  (3, 76527)\t1\n",
            "  (3, 35063)\t1\n",
            "  (3, 57605)\t1\n",
            "  (3, 13048)\t2\n",
            "  (3, 36462)\t1\n",
            "  (3, 2040)\t1\n",
            "  (3, 40937)\t1\n",
            "  (3, 80472)\t1\n",
            "  (3, 72128)\t1\n",
            "  (3, 22323)\t1\n",
            "  (3, 48717)\t1\n",
            "  (3, 17346)\t1\n",
            "  (3, 42556)\t1\n",
            "  (3, 22675)\t1\n"
          ]
        }
      ]
    },
    {
      "cell_type": "code",
      "source": [
        "#curve metrix shape 41369 which amounts to"
      ],
      "metadata": {
        "id": "YC-x4uTvX6w1"
      },
      "execution_count": null,
      "outputs": []
    },
    {
      "cell_type": "code",
      "source": [
        "# compute the Cosine Similarity matrix based on the count_matrix\n",
        "# caution ... this takes time\n",
        "print(\"\\n*** Cosine Similarity ***\")\n",
        "cosSimilarity = cosine_similarity(count_matrix, count_matrix)\n",
        "print(cosSimilarity.shape)\n",
        "print(\"Done ...\")"
      ],
      "metadata": {
        "colab": {
          "base_uri": "https://localhost:8080/"
        },
        "id": "IfbrOuQsX6zI",
        "outputId": "ad3ed70d-3078-46b2-c1ac-ea79dea97302"
      },
      "execution_count": null,
      "outputs": [
        {
          "output_type": "stream",
          "name": "stdout",
          "text": [
            "\n",
            "*** Cosine Similarity ***\n"
          ]
        }
      ]
    },
    {
      "cell_type": "code",
      "source": [
        "# output the shape of cosSimilarity\n",
        "print(\"\\n*** Cosine Similarity Matrix ***\")\n",
        "print(\"Shape:\",cosSimilarity.shape)\n",
        "print(\"Rows :\",cosSimilarity.shape[0])\n",
        "print(\"Cols :\",cosSimilarity.shape[1])"
      ],
      "metadata": {
        "colab": {
          "base_uri": "https://localhost:8080/",
          "height": 266
        },
        "id": "S0XL5aW7X61Q",
        "outputId": "64035359-13f3-49af-9519-5e37e88dc170"
      },
      "execution_count": 1,
      "outputs": [
        {
          "output_type": "stream",
          "name": "stdout",
          "text": [
            "\n",
            "*** Cosine Similarity Matrix ***\n"
          ]
        },
        {
          "output_type": "error",
          "ename": "NameError",
          "evalue": "ignored",
          "traceback": [
            "\u001b[0;31m---------------------------------------------------------------------------\u001b[0m",
            "\u001b[0;31mNameError\u001b[0m                                 Traceback (most recent call last)",
            "\u001b[0;32m<ipython-input-1-87f7a43f7c3c>\u001b[0m in \u001b[0;36m<module>\u001b[0;34m()\u001b[0m\n\u001b[1;32m      1\u001b[0m \u001b[0;31m# output the shape of cosSimilarity\u001b[0m\u001b[0;34m\u001b[0m\u001b[0;34m\u001b[0m\u001b[0;34m\u001b[0m\u001b[0m\n\u001b[1;32m      2\u001b[0m \u001b[0mprint\u001b[0m\u001b[0;34m(\u001b[0m\u001b[0;34m\"\\n*** Cosine Similarity Matrix ***\"\u001b[0m\u001b[0;34m)\u001b[0m\u001b[0;34m\u001b[0m\u001b[0;34m\u001b[0m\u001b[0m\n\u001b[0;32m----> 3\u001b[0;31m \u001b[0mprint\u001b[0m\u001b[0;34m(\u001b[0m\u001b[0;34m\"Shape:\"\u001b[0m\u001b[0;34m,\u001b[0m\u001b[0mcosSimilarity\u001b[0m\u001b[0;34m.\u001b[0m\u001b[0mshape\u001b[0m\u001b[0;34m)\u001b[0m\u001b[0;34m\u001b[0m\u001b[0;34m\u001b[0m\u001b[0m\n\u001b[0m\u001b[1;32m      4\u001b[0m \u001b[0mprint\u001b[0m\u001b[0;34m(\u001b[0m\u001b[0;34m\"Rows :\"\u001b[0m\u001b[0;34m,\u001b[0m\u001b[0mcosSimilarity\u001b[0m\u001b[0;34m.\u001b[0m\u001b[0mshape\u001b[0m\u001b[0;34m[\u001b[0m\u001b[0;36m0\u001b[0m\u001b[0;34m]\u001b[0m\u001b[0;34m)\u001b[0m\u001b[0;34m\u001b[0m\u001b[0;34m\u001b[0m\u001b[0m\n\u001b[1;32m      5\u001b[0m \u001b[0mprint\u001b[0m\u001b[0;34m(\u001b[0m\u001b[0;34m\"Cols :\"\u001b[0m\u001b[0;34m,\u001b[0m\u001b[0mcosSimilarity\u001b[0m\u001b[0;34m.\u001b[0m\u001b[0mshape\u001b[0m\u001b[0;34m[\u001b[0m\u001b[0;36m1\u001b[0m\u001b[0;34m]\u001b[0m\u001b[0;34m)\u001b[0m\u001b[0;34m\u001b[0m\u001b[0;34m\u001b[0m\u001b[0m\n",
            "\u001b[0;31mNameError\u001b[0m: name 'cosSimilarity' is not defined"
          ]
        }
      ]
    },
    {
      "cell_type": "code",
      "source": [
        "# print\n",
        "print(\"\\n*** Cosine Similarity Sample - Bot 5 ***\")\n",
        "print(cosSimilarity[-5:-1])"
      ],
      "metadata": {
        "id": "FIK9fYy9X65K"
      },
      "execution_count": null,
      "outputs": []
    },
    {
      "cell_type": "code",
      "source": [
        "# reverse mapping as beforeprint(\"\\n*** Cosine Similarity ***\")\n",
        "print(\"\\n*** Reverse Title Index Map ***\")\n",
        "tIndex = pd.Series(df.index, index=df[varTitle])\n",
        "print(tIndex.head())\n",
        "print(tIndex.tail())\n",
        "print(\"Done ...\")"
      ],
      "metadata": {
        "id": "alh65e1HX68C"
      },
      "execution_count": null,
      "outputs": []
    },
    {
      "cell_type": "code",
      "source": [
        "\n",
        "##################################################\n",
        "# Recommender Function\n",
        "##################################################\n",
        "\n",
        "# function that takes in movie title as input and outputs most similar items\n",
        "print(\"\\n*** Recommendation Function ***\")\n",
        "def getReccos(pTitle, vTopN=5):\n",
        "    global cosSimilarity\n",
        "    #pTitle = \"The Godfather\"\n",
        "    #vTopN = 5\n",
        "    # Get the index of the movie that matches the title\n",
        "    try:\n",
        "        idx = tIndex[pTitle]\n",
        "        print(idx, pTitle)\n",
        "    except:\n",
        "        print(\"Title Not Found ...\")\n",
        "        return \"Title Not Found ...\""
      ],
      "metadata": {
        "id": "qUsFovdFaxu6"
      },
      "execution_count": null,
      "outputs": []
    },
    {
      "cell_type": "code",
      "source": [
        "##################################################\n",
        "# Function Calls\n",
        "##################################################\n",
        "\n",
        "# call the function\n",
        "getReccos('The Godfather',10)\n",
        "getReccos('Raiders of the Lost Ark')\n",
        "getReccos('Red Sun')"
      ],
      "metadata": {
        "id": "I3OSpebla1lE"
      },
      "execution_count": null,
      "outputs": []
    }
  ]
}