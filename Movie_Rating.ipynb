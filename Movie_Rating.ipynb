{
  "nbformat": 4,
  "nbformat_minor": 0,
  "metadata": {
    "colab": {
      "name": "Movie_Rating.ipynb",
      "provenance": [],
      "authorship_tag": "ABX9TyO/7fT2WmUoiIh80t41bvAO",
      "include_colab_link": true
    },
    "kernelspec": {
      "name": "python3",
      "display_name": "Python 3"
    },
    "language_info": {
      "name": "python"
    }
  },
  "cells": [
    {
      "cell_type": "markdown",
      "metadata": {
        "id": "view-in-github",
        "colab_type": "text"
      },
      "source": [
        "<a href=\"https://colab.research.google.com/github/Shasuf/Recommendation-Systems/blob/main/Movie_Rating.ipynb\" target=\"_parent\"><img src=\"https://colab.research.google.com/assets/colab-badge.svg\" alt=\"Open In Colab\"/></a>"
      ]
    },
    {
      "cell_type": "code",
      "source": [
        "# import libraries\n",
        "print(\"\\n*** Import Libraries ***\")\n",
        "# hides all warnings\n",
        "import warnings\n",
        "warnings.filterwarnings('ignore')\n",
        "# pandas \n",
        "import pandas as pd\n",
        "# numpy\n",
        "import numpy as np\n",
        "# matplotlib \n",
        "import matplotlib.pyplot as plt\n",
        "#%matplotlib inline\n",
        "plt.style.use('ggplot')\n",
        "plt.rcParams['figure.figsize'] = (10, 5)\n",
        "# sns\n",
        "import seaborn as sns\n",
        "print(\"Done ...\")\n"
      ],
      "metadata": {
        "id": "OXyFtiKhcQ1F",
        "colab": {
          "base_uri": "https://localhost:8080/"
        },
        "outputId": "efcc5c48-09d2-4448-c815-420a35675e14"
      },
      "execution_count": null,
      "outputs": [
        {
          "output_type": "stream",
          "name": "stdout",
          "text": [
            "\n",
            "*** Import Libraries ***\n",
            "Done ...\n"
          ]
        }
      ]
    },
    {
      "cell_type": "code",
      "source": [
        "# import utils stored in g-drive / My Drive  / Collab Notebooks\n",
        "print(\"\\n*** Import Utils ***\")\n",
        "import sys\n",
        "from google.colab import drive\n",
        "drive.mount('/content/gdrive')\n",
        "# To add a directory with your code into a list of directories \n",
        "# which will be searched for packages\n",
        "sys.path.append('/content/gdrive/My Drive/Colab Notebooks')\n",
        "import utils\n",
        "print(\"Done ...\")\n",
        "\n",
        "##############################################"
      ],
      "metadata": {
        "id": "EJHMuChXcePt",
        "colab": {
          "base_uri": "https://localhost:8080/"
        },
        "outputId": "e1ae173f-d2c5-4e65-d691-280c2fb7370a"
      },
      "execution_count": null,
      "outputs": [
        {
          "output_type": "stream",
          "name": "stdout",
          "text": [
            "\n",
            "*** Import Utils ***\n",
            "Mounted at /content/gdrive\n",
            "Done ...\n"
          ]
        }
      ]
    },
    {
      "cell_type": "code",
      "source": [
        "print(\"\\n*** Read Data ***\")\n",
        "df = pd.read_csv('/content/gdrive/MyDrive/Colab Notebooks/data/mldb-movies-metadata.csv', low_memory=False)\n",
        "print(\"Done ...\")\n"
      ],
      "metadata": {
        "colab": {
          "base_uri": "https://localhost:8080/"
        },
        "id": "nPu4Cgg27xXr",
        "outputId": "0bc7d1ca-c3e5-4792-f335-3793a430b48d"
      },
      "execution_count": null,
      "outputs": [
        {
          "output_type": "stream",
          "name": "stdout",
          "text": [
            "\n",
            "*** Read Data ***\n",
            "Done ...\n"
          ]
        }
      ]
    },
    {
      "cell_type": "markdown",
      "source": [
        "low memory ensures entire datatype of column remains same.\n",
        "typically when we have unknown data."
      ],
      "metadata": {
        "id": "2t804PXw75cW"
      }
    },
    {
      "cell_type": "code",
      "source": [
        "\n",
        "##############################################################\n",
        "# Exploratory Data Analysis\n",
        "##############################################################\n",
        "\n",
        "# rows & cols\n",
        "print(\"\\n*** Rows & Cols ***\")\n",
        "print(\"Rows\",df.shape[0])\n",
        "print(\"Cols\",df.shape[1])"
      ],
      "metadata": {
        "colab": {
          "base_uri": "https://localhost:8080/"
        },
        "id": "ub1FkFTX73_F",
        "outputId": "27359bda-73f6-45f6-91e8-f076b0bea8fc"
      },
      "execution_count": null,
      "outputs": [
        {
          "output_type": "stream",
          "name": "stdout",
          "text": [
            "\n",
            "*** Rows & Cols ***\n",
            "Rows 45460\n",
            "Cols 24\n"
          ]
        }
      ]
    },
    {
      "cell_type": "code",
      "source": [
        "# columns\n",
        "print(\"\\n*** Column Names ***\")\n",
        "print(df.columns)"
      ],
      "metadata": {
        "colab": {
          "base_uri": "https://localhost:8080/"
        },
        "id": "i9plW-J88Xwc",
        "outputId": "2ebaf782-446c-4b07-8e87-1356d78eb1cc"
      },
      "execution_count": null,
      "outputs": [
        {
          "output_type": "stream",
          "name": "stdout",
          "text": [
            "\n",
            "*** Column Names ***\n",
            "Index(['adult', 'belongs_to_collection', 'budget', 'genres', 'homepage', 'id',\n",
            "       'imdb_id', 'original_language', 'original_title', 'overview',\n",
            "       'popularity', 'poster_path', 'production_companies',\n",
            "       'production_countries', 'release_date', 'revenue', 'runtime',\n",
            "       'spoken_languages', 'status', 'tagline', 'title', 'video',\n",
            "       'vote_average', 'vote_count'],\n",
            "      dtype='object')\n"
          ]
        }
      ]
    },
    {
      "cell_type": "code",
      "source": [
        "# info\n",
        "print(\"\\n*** Structure ***\")\n",
        "print(df.info())"
      ],
      "metadata": {
        "colab": {
          "base_uri": "https://localhost:8080/"
        },
        "id": "s4j6TLWL8ao0",
        "outputId": "4639354b-30a2-49d0-a58f-321820ec893f"
      },
      "execution_count": null,
      "outputs": [
        {
          "output_type": "stream",
          "name": "stdout",
          "text": [
            "\n",
            "*** Structure ***\n",
            "<class 'pandas.core.frame.DataFrame'>\n",
            "RangeIndex: 45460 entries, 0 to 45459\n",
            "Data columns (total 24 columns):\n",
            " #   Column                 Non-Null Count  Dtype  \n",
            "---  ------                 --------------  -----  \n",
            " 0   adult                  45460 non-null  bool   \n",
            " 1   belongs_to_collection  4490 non-null   object \n",
            " 2   budget                 45460 non-null  int64  \n",
            " 3   genres                 45460 non-null  object \n",
            " 4   homepage               7778 non-null   object \n",
            " 5   id                     45460 non-null  int64  \n",
            " 6   imdb_id                45443 non-null  object \n",
            " 7   original_language      45449 non-null  object \n",
            " 8   original_title         45460 non-null  object \n",
            " 9   overview               44506 non-null  object \n",
            " 10  popularity             45460 non-null  float64\n",
            " 11  poster_path            45077 non-null  object \n",
            " 12  production_companies   45460 non-null  object \n",
            " 13  production_countries   45460 non-null  object \n",
            " 14  release_date           45376 non-null  object \n",
            " 15  revenue                45460 non-null  int64  \n",
            " 16  runtime                45203 non-null  float64\n",
            " 17  spoken_languages       45460 non-null  object \n",
            " 18  status                 45379 non-null  object \n",
            " 19  tagline                20412 non-null  object \n",
            " 20  title                  45460 non-null  object \n",
            " 21  video                  45460 non-null  bool   \n",
            " 22  vote_average           45460 non-null  float64\n",
            " 23  vote_count             45460 non-null  int64  \n",
            "dtypes: bool(2), float64(3), int64(4), object(15)\n",
            "memory usage: 7.7+ MB\n",
            "None\n"
          ]
        }
      ]
    },
    {
      "cell_type": "code",
      "source": [
        "# data types\n",
        "print(\"\\n*** Data Types ***\")\n",
        "print(df.dtypes)"
      ],
      "metadata": {
        "colab": {
          "base_uri": "https://localhost:8080/"
        },
        "id": "tIl5_PhO8cSy",
        "outputId": "c0ff1893-4ebb-40cf-b1c8-dc4a4cf1edb5"
      },
      "execution_count": null,
      "outputs": [
        {
          "output_type": "stream",
          "name": "stdout",
          "text": [
            "\n",
            "*** Data Types ***\n",
            "adult                       bool\n",
            "belongs_to_collection     object\n",
            "budget                     int64\n",
            "genres                    object\n",
            "homepage                  object\n",
            "id                         int64\n",
            "imdb_id                   object\n",
            "original_language         object\n",
            "original_title            object\n",
            "overview                  object\n",
            "popularity               float64\n",
            "poster_path               object\n",
            "production_companies      object\n",
            "production_countries      object\n",
            "release_date              object\n",
            "revenue                    int64\n",
            "runtime                  float64\n",
            "spoken_languages          object\n",
            "status                    object\n",
            "tagline                   object\n",
            "title                     object\n",
            "video                       bool\n",
            "vote_average             float64\n",
            "vote_count                 int64\n",
            "dtype: object\n"
          ]
        }
      ]
    },
    {
      "cell_type": "code",
      "source": [
        "# head\n",
        "#print(df[['genres','title','vote_average','vote_count']].head())\n",
        "print(df[['title','vote_average','vote_count']].head())"
      ],
      "metadata": {
        "colab": {
          "base_uri": "https://localhost:8080/"
        },
        "id": "mbIxxvmp9O1z",
        "outputId": "0eeab464-125b-41e3-a2f8-f6073e14357a"
      },
      "execution_count": null,
      "outputs": [
        {
          "output_type": "stream",
          "name": "stdout",
          "text": [
            "                         title  vote_average  vote_count\n",
            "0                    Toy Story           7.7        5415\n",
            "1                      Jumanji           6.9        2413\n",
            "2             Grumpier Old Men           6.5          92\n",
            "3            Waiting to Exhale           6.1          34\n",
            "4  Father of the Bride Part II           5.7         173\n"
          ]
        }
      ]
    },
    {
      "cell_type": "code",
      "source": [
        "\n",
        "##################################################\n",
        "# Simple Recommender \n",
        "##################################################\n",
        "# The Simple Recommender offers generalized recommnendations to every user based \n",
        "# on movie popularity and (sometimes) genre. The basic idea behind this recommender \n",
        "# is that movies that are more popular and more critically acclaimed will have \n",
        "# a higher probability of being liked by the average audience. This model does \n",
        "# not give personalized recommendations based on the user.\n",
        "#\n",
        "# The implementation of this model is extremely trivial. All we have to do is \n",
        "# sort our movies based on ratings and popularity and display the top movies of \n",
        "# our list. As an added step, we can pass in a genre argument to get the top movies \n",
        "# of a particular genre.\n"
      ],
      "metadata": {
        "id": "L087oHMw9O4R"
      },
      "execution_count": null,
      "outputs": []
    },
    {
      "cell_type": "markdown",
      "source": [
        "\n",
        "# top movies \n",
        "# based on weighted average calculated from vote_average & vote_count with \n",
        "# 50 percentile cut-off\n",
        "# wa = ( (v/(v+m)) * R) + ( (m/(m+v)) * C)\n",
        "# where\n",
        "# v is the number of votes for the movie\n",
        "# m is the minimum votes required to be listed in the chart\n",
        "# R is the average rating of the movie\n",
        "# C is the mean vote across the whole report / table"
      ],
      "metadata": {
        "id": "ch0q9O849xM9"
      }
    },
    {
      "cell_type": "code",
      "source": [
        "# C is the mean vote across the whole report\n",
        "print(\"\\n*** Global Vote Average C ***\")\n",
        "C = df['vote_average'].mean()\n",
        "print(C)"
      ],
      "metadata": {
        "colab": {
          "base_uri": "https://localhost:8080/"
        },
        "id": "Q3JrSU-J9PGE",
        "outputId": "5ccaad18-1f4f-4f4c-d984-4083c9e3d6dd"
      },
      "execution_count": null,
      "outputs": [
        {
          "output_type": "stream",
          "name": "stdout",
          "text": [
            "\n",
            "*** Global Vote Average C ***\n",
            "5.618207215133889\n"
          ]
        }
      ]
    },
    {
      "cell_type": "markdown",
      "source": [
        "vote average across entire file "
      ],
      "metadata": {
        "id": "N9xMTWiU-OWs"
      }
    },
    {
      "cell_type": "code",
      "source": [
        "# m is the minimum votes required to be listed in the chart\n",
        "print(\"\\n*** Min Votes Required ***\")\n",
        "m = df['vote_count'].quantile(0.50)\n",
        "print(m)\n"
      ],
      "metadata": {
        "colab": {
          "base_uri": "https://localhost:8080/"
        },
        "id": "GMSPuFqb-JwM",
        "outputId": "a6c70107-26c8-44c2-87b2-1203af5adfba"
      },
      "execution_count": null,
      "outputs": [
        {
          "output_type": "stream",
          "name": "stdout",
          "text": [
            "\n",
            "*** Min Votes Required ***\n",
            "10.0\n"
          ]
        }
      ]
    },
    {
      "cell_type": "markdown",
      "source": [
        "minimum 10ratings are required, otherwise it will not be considered"
      ],
      "metadata": {
        "id": "cIynhma0-atU"
      }
    },
    {
      "cell_type": "code",
      "source": [
        "# Filter out all qualified movies into a new DataFrame\n",
        "print(\"\\n*** Filter > Min Votes ***\")\n",
        "df = df[df['vote_count'] >= m]\n",
        "print(type(df))\n",
        "print(df.shape)\n",
        "print(df.shape)\n",
        "print(df.head())"
      ],
      "metadata": {
        "colab": {
          "base_uri": "https://localhost:8080/"
        },
        "id": "P23Aq8Y1-J0j",
        "outputId": "b590c5f8-7267-4a72-9630-79ec27101e58"
      },
      "execution_count": null,
      "outputs": [
        {
          "output_type": "stream",
          "name": "stdout",
          "text": [
            "\n",
            "*** Filter > Min Votes ***\n",
            "<class 'pandas.core.frame.DataFrame'>\n",
            "(22931, 24)\n",
            "(22931, 24)\n",
            "   adult                              belongs_to_collection    budget  \\\n",
            "0  False  {'id': 10194, 'name': 'Toy Story Collection', ...  30000000   \n",
            "1  False                                                NaN  65000000   \n",
            "2  False  {'id': 119050, 'name': 'Grumpy Old Men Collect...         0   \n",
            "3  False                                                NaN  16000000   \n",
            "4  False  {'id': 96871, 'name': 'Father of the Bride Col...         0   \n",
            "\n",
            "                                              genres  \\\n",
            "0  [{'id': 16, 'name': 'Animation'}, {'id': 35, '...   \n",
            "1  [{'id': 12, 'name': 'Adventure'}, {'id': 14, '...   \n",
            "2  [{'id': 10749, 'name': 'Romance'}, {'id': 35, ...   \n",
            "3  [{'id': 35, 'name': 'Comedy'}, {'id': 18, 'nam...   \n",
            "4                     [{'id': 35, 'name': 'Comedy'}]   \n",
            "\n",
            "                               homepage     id    imdb_id original_language  \\\n",
            "0  http://toystory.disney.com/toy-story    862  tt0114709                en   \n",
            "1                                   NaN   8844  tt0113497                en   \n",
            "2                                   NaN  15602  tt0113228                en   \n",
            "3                                   NaN  31357  tt0114885                en   \n",
            "4                                   NaN  11862  tt0113041                en   \n",
            "\n",
            "                original_title  \\\n",
            "0                    Toy Story   \n",
            "1                      Jumanji   \n",
            "2             Grumpier Old Men   \n",
            "3            Waiting to Exhale   \n",
            "4  Father of the Bride Part II   \n",
            "\n",
            "                                            overview  ...  release_date  \\\n",
            "0  Led by Woody, Andy's toys live happily in his ...  ...    30-10-1995   \n",
            "1  When siblings Judy and Peter discover an encha...  ...    15-12-1995   \n",
            "2  A family wedding reignites the ancient feud be...  ...    22-12-1995   \n",
            "3  Cheated on, mistreated and stepped on, the wom...  ...    22-12-1995   \n",
            "4  Just when George Banks has recovered from his ...  ...    10-02-1995   \n",
            "\n",
            "     revenue runtime                                   spoken_languages  \\\n",
            "0  373554033    81.0           [{'iso_639_1': 'en', 'name': 'English'}]   \n",
            "1  262797249   104.0  [{'iso_639_1': 'en', 'name': 'English'}, {'iso...   \n",
            "2          0   101.0           [{'iso_639_1': 'en', 'name': 'English'}]   \n",
            "3   81452156   127.0           [{'iso_639_1': 'en', 'name': 'English'}]   \n",
            "4   76578911   106.0           [{'iso_639_1': 'en', 'name': 'English'}]   \n",
            "\n",
            "     status                                            tagline  \\\n",
            "0  Released                                                NaN   \n",
            "1  Released          Roll the dice and unleash the excitement!   \n",
            "2  Released  Still Yelling. Still Fighting. Still Ready for...   \n",
            "3  Released  Friends are the people who let you be yourself...   \n",
            "4  Released  Just When His World Is Back To Normal... He's ...   \n",
            "\n",
            "                         title  video vote_average vote_count  \n",
            "0                    Toy Story  False          7.7       5415  \n",
            "1                      Jumanji  False          6.9       2413  \n",
            "2             Grumpier Old Men  False          6.5         92  \n",
            "3            Waiting to Exhale  False          6.1         34  \n",
            "4  Father of the Bride Part II  False          5.7        173  \n",
            "\n",
            "[5 rows x 24 columns]\n"
          ]
        }
      ]
    },
    {
      "cell_type": "markdown",
      "source": [
        "\n",
        "removing weighting at 50(quantile) only 10% have good ratings\n",
        "\n",
        "#**you want more data for prediction go for less percentile** unless you have suffiecient data"
      ],
      "metadata": {
        "id": "ZpFMzf0H_HUS"
      }
    },
    {
      "cell_type": "code",
      "source": [
        "# function that computes the weighted rating of each movie\n",
        "def weightedRating(x, m=m, C=C):\n",
        "    v = x['vote_count']\n",
        "    R = x['vote_average']\n",
        "    # Calculation based on the IdfB formula\n",
        "    return (v/(v+m) * R) + (m/(m+v) * C)"
      ],
      "metadata": {
        "id": "M3WUB0PR-J4d"
      },
      "execution_count": null,
      "outputs": []
    },
    {
      "cell_type": "markdown",
      "source": [
        "computing the weighted average, calculating the V,R from individual row and then returning."
      ],
      "metadata": {
        "id": "AeqqUuSN_7NX"
      }
    },
    {
      "cell_type": "code",
      "source": [
        "# define a new feature 'score' and calculate its value with `weighted_rating()`\n",
        "print(\"\\n*** Create Score ***\")\n",
        "df['score'] = df.apply(weightedRating, axis=1)\n",
        "print(type(df))\n",
        "print(df.shape)\n",
        "print(df.head())\n",
        "print(df[['title','score']].head())"
      ],
      "metadata": {
        "colab": {
          "base_uri": "https://localhost:8080/"
        },
        "id": "lbaCOdXR_unc",
        "outputId": "8e7e3c7e-a01f-4590-dd83-de9711e7381f"
      },
      "execution_count": null,
      "outputs": [
        {
          "output_type": "stream",
          "name": "stdout",
          "text": [
            "\n",
            "*** Create Score ***\n",
            "<class 'pandas.core.frame.DataFrame'>\n",
            "(22931, 25)\n",
            "   adult                              belongs_to_collection    budget  \\\n",
            "0  False  {'id': 10194, 'name': 'Toy Story Collection', ...  30000000   \n",
            "1  False                                                NaN  65000000   \n",
            "2  False  {'id': 119050, 'name': 'Grumpy Old Men Collect...         0   \n",
            "3  False                                                NaN  16000000   \n",
            "4  False  {'id': 96871, 'name': 'Father of the Bride Col...         0   \n",
            "\n",
            "                                              genres  \\\n",
            "0  [{'id': 16, 'name': 'Animation'}, {'id': 35, '...   \n",
            "1  [{'id': 12, 'name': 'Adventure'}, {'id': 14, '...   \n",
            "2  [{'id': 10749, 'name': 'Romance'}, {'id': 35, ...   \n",
            "3  [{'id': 35, 'name': 'Comedy'}, {'id': 18, 'nam...   \n",
            "4                     [{'id': 35, 'name': 'Comedy'}]   \n",
            "\n",
            "                               homepage     id    imdb_id original_language  \\\n",
            "0  http://toystory.disney.com/toy-story    862  tt0114709                en   \n",
            "1                                   NaN   8844  tt0113497                en   \n",
            "2                                   NaN  15602  tt0113228                en   \n",
            "3                                   NaN  31357  tt0114885                en   \n",
            "4                                   NaN  11862  tt0113041                en   \n",
            "\n",
            "                original_title  \\\n",
            "0                    Toy Story   \n",
            "1                      Jumanji   \n",
            "2             Grumpier Old Men   \n",
            "3            Waiting to Exhale   \n",
            "4  Father of the Bride Part II   \n",
            "\n",
            "                                            overview  ...    revenue runtime  \\\n",
            "0  Led by Woody, Andy's toys live happily in his ...  ...  373554033    81.0   \n",
            "1  When siblings Judy and Peter discover an encha...  ...  262797249   104.0   \n",
            "2  A family wedding reignites the ancient feud be...  ...          0   101.0   \n",
            "3  Cheated on, mistreated and stepped on, the wom...  ...   81452156   127.0   \n",
            "4  Just when George Banks has recovered from his ...  ...   76578911   106.0   \n",
            "\n",
            "                                    spoken_languages    status  \\\n",
            "0           [{'iso_639_1': 'en', 'name': 'English'}]  Released   \n",
            "1  [{'iso_639_1': 'en', 'name': 'English'}, {'iso...  Released   \n",
            "2           [{'iso_639_1': 'en', 'name': 'English'}]  Released   \n",
            "3           [{'iso_639_1': 'en', 'name': 'English'}]  Released   \n",
            "4           [{'iso_639_1': 'en', 'name': 'English'}]  Released   \n",
            "\n",
            "                                             tagline  \\\n",
            "0                                                NaN   \n",
            "1          Roll the dice and unleash the excitement!   \n",
            "2  Still Yelling. Still Fighting. Still Ready for...   \n",
            "3  Friends are the people who let you be yourself...   \n",
            "4  Just When His World Is Back To Normal... He's ...   \n",
            "\n",
            "                         title  video vote_average vote_count     score  \n",
            "0                    Toy Story  False          7.7       5415  7.696163  \n",
            "1                      Jumanji  False          6.9       2413  6.894710  \n",
            "2             Grumpier Old Men  False          6.5         92  6.413550  \n",
            "3            Waiting to Exhale  False          6.1         34  5.990502  \n",
            "4  Father of the Bride Part II  False          5.7        173  5.695530  \n",
            "\n",
            "[5 rows x 25 columns]\n",
            "                         title     score\n",
            "0                    Toy Story  7.696163\n",
            "1                      Jumanji  6.894710\n",
            "2             Grumpier Old Men  6.413550\n",
            "3            Waiting to Exhale  5.990502\n",
            "4  Father of the Bride Part II  5.695530\n"
          ]
        }
      ]
    },
    {
      "cell_type": "code",
      "source": [
        "# sort movies based on score calculated above\n",
        "print(\"\\n*** Sort On Score ***\")\n",
        "df = df.sort_values('score', ascending=False)\n",
        "print(df[['title','vote_average','vote_count','score']].head())\n"
      ],
      "metadata": {
        "colab": {
          "base_uri": "https://localhost:8080/"
        },
        "id": "MHGEwzj-_up-",
        "outputId": "ac11f5d8-ef4c-4141-9052-3f853d80e15a"
      },
      "execution_count": null,
      "outputs": [
        {
          "output_type": "stream",
          "name": "stdout",
          "text": [
            "\n",
            "*** Sort On Score ***\n",
            "                             title  vote_average  vote_count     score\n",
            "10309  Dilwale Dulhania Le Jayenge           9.1         661  9.048110\n",
            "43314              Planet Earth II           9.5          50  8.853035\n",
            "39079                 Planet Earth           8.8         176  8.628936\n",
            "314       The Shawshank Redemption           8.5        8358  8.496556\n",
            "834                  The Godfather           8.5        6024  8.495224\n"
          ]
        }
      ]
    },
    {
      "cell_type": "code",
      "source": [
        "# print the top 15 movies\n",
        "print(\"\\n*** Top 5 Movies ***\")\n",
        "print(df[['title', 'vote_count', 'vote_average', 'score']].head(15))"
      ],
      "metadata": {
        "colab": {
          "base_uri": "https://localhost:8080/"
        },
        "id": "sRJDt9JD_ury",
        "outputId": "a426b94d-0bdf-4511-f8ea-43a46dc880b7"
      },
      "execution_count": null,
      "outputs": [
        {
          "output_type": "stream",
          "name": "stdout",
          "text": [
            "\n",
            "*** Top 5 Movies ***\n",
            "                             title  vote_count  vote_average     score\n",
            "10309  Dilwale Dulhania Le Jayenge         661           9.1  9.048110\n",
            "43314              Planet Earth II          50           9.5  8.853035\n",
            "39079                 Planet Earth         176           8.8  8.628936\n",
            "314       The Shawshank Redemption        8358           8.5  8.496556\n",
            "834                  The Godfather        6024           8.5  8.495224\n",
            "40245                   Your Name.        1030           8.5  8.472290\n",
            "43517                       Cosmos          41           9.1  8.417296\n",
            "33416                        Human          98           8.6  8.323908\n",
            "7643            Sansho the Bailiff          68           8.7  8.304898\n",
            "12481              The Dark Knight       12269           8.3  8.297816\n",
            "2843                    Fight Club        9678           8.3  8.297232\n",
            "292                   Pulp Fiction        8670           8.3  8.296910\n",
            "522               Schindler's List        4436           8.3  8.293968\n",
            "23671                     Whiplash        4376           8.3  8.293886\n",
            "5481                 Spirited Away        3968           8.3  8.293258\n"
          ]
        }
      ]
    },
    {
      "cell_type": "code",
      "source": [
        "# handle genres wise top n\n",
        "print(\"\\n*** Genre Dict to List ***\")\n",
        "print(df['genres'].head())"
      ],
      "metadata": {
        "colab": {
          "base_uri": "https://localhost:8080/"
        },
        "id": "jNiC2ZUl_ut4",
        "outputId": "a3f1dca2-608c-42a4-8d1a-568cb32c9e50"
      },
      "execution_count": null,
      "outputs": [
        {
          "output_type": "stream",
          "name": "stdout",
          "text": [
            "\n",
            "*** Genre Dict to List ***\n",
            "10309    [{'id': 35, 'name': 'Comedy'}, {'id': 18, 'nam...\n",
            "43314                  [{'id': 99, 'name': 'Documentary'}]\n",
            "39079                  [{'id': 99, 'name': 'Documentary'}]\n",
            "314      [{'id': 18, 'name': 'Drama'}, {'id': 80, 'name...\n",
            "834      [{'id': 18, 'name': 'Drama'}, {'id': 80, 'name...\n",
            "Name: genres, dtype: object\n"
          ]
        }
      ]
    },
    {
      "cell_type": "markdown",
      "source": [
        "this is a json file we need to extract \"name\", if its empty use lamba"
      ],
      "metadata": {
        "id": "sTahApwVBceb"
      }
    },
    {
      "cell_type": "code",
      "source": [
        "# this is dictionary ... convert to list\n",
        "df['genres'] = df['genres'].fillna('[]').apply(eval).apply(lambda x: [i['name'] for i in x] if isinstance(x, list) else [])\n",
        "print(df['genres'].head())\n"
      ],
      "metadata": {
        "colab": {
          "base_uri": "https://localhost:8080/"
        },
        "id": "EyhZ_HYa_uv9",
        "outputId": "c771a296-b018-4af3-bf71-56a51bb01252"
      },
      "execution_count": null,
      "outputs": [
        {
          "output_type": "stream",
          "name": "stdout",
          "text": [
            "10309    [Comedy, Drama, Romance]\n",
            "43314               [Documentary]\n",
            "39079               [Documentary]\n",
            "314                [Drama, Crime]\n",
            "834                [Drama, Crime]\n",
            "Name: genres, dtype: object\n"
          ]
        }
      ]
    },
    {
      "cell_type": "markdown",
      "source": [
        "whatever we want to extract we put inthe above formula\n",
        "extract only name, if it is NULL fill with NA and apply lamba."
      ],
      "metadata": {
        "id": "94qeWDR9CDKV"
      }
    },
    {
      "cell_type": "code",
      "source": [
        "lGenres = ['Action','Adventure','Animation\",\"Children','Comedy', 'Crime','Documentary','Drama','Fantasy','Film-Noir','Horror','Musical','Mystery','Romance','Sci-Fi','Thriller','War','Western']\n",
        "print(lGenres)\n"
      ],
      "metadata": {
        "colab": {
          "base_uri": "https://localhost:8080/"
        },
        "id": "VnR62N2__uyI",
        "outputId": "9d3c1518-707d-496e-b958-85bd704b21ca"
      },
      "execution_count": null,
      "outputs": [
        {
          "output_type": "stream",
          "name": "stdout",
          "text": [
            "['Action', 'Adventure', 'Animation\",\"Children', 'Comedy', 'Crime', 'Documentary', 'Drama', 'Fantasy', 'Film-Noir', 'Horror', 'Musical', 'Mystery', 'Romance', 'Sci-Fi', 'Thriller', 'War', 'Western']\n"
          ]
        }
      ]
    },
    {
      "cell_type": "code",
      "source": [
        "# movies of a genre\n",
        "def getGenreMovies(pGenre):\n",
        "    global df\n",
        "    mask = df['genres'].apply(lambda x: pGenre in x)\n",
        "    #print(mask[0:5])\n",
        "    mg = df[mask]\n",
        "    # print the top 5 movies\n",
        "    print(\"\\nGenre:\", pGenre)\n",
        "    print(\"==============================================\")\n",
        "    print(mg[['title', 'vote_count', 'vote_average', 'score']].head(5))"
      ],
      "metadata": {
        "id": "x8c8I9ht_u0N"
      },
      "execution_count": null,
      "outputs": []
    },
    {
      "cell_type": "code",
      "source": [
        "# sample genre\n",
        "print(\"\\n*** Sample Genre List ***\")\n",
        "getGenreMovies('Comedy')"
      ],
      "metadata": {
        "colab": {
          "base_uri": "https://localhost:8080/"
        },
        "id": "lkEk6avb_u2W",
        "outputId": "b6e199e1-4ff9-45f1-f5b9-1945ca7ac835"
      },
      "execution_count": null,
      "outputs": [
        {
          "output_type": "stream",
          "name": "stdout",
          "text": [
            "\n",
            "*** Sample Genre List ***\n",
            "\n",
            "Genre: Comedy\n",
            "==============================================\n",
            "                             title  vote_count  vote_average     score\n",
            "10309  Dilwale Dulhania Le Jayenge         661           9.1  9.048110\n",
            "2211             Life Is Beautiful        3643           8.3  8.292659\n",
            "351                   Forrest Gump        8147           8.2  8.196835\n",
            "18465             The Intouchables        5410           8.2  8.195237\n",
            "3189                   City Lights         444           8.2  8.143132\n"
          ]
        }
      ]
    },
    {
      "cell_type": "code",
      "source": [
        "# get top 5 for all genres\n",
        "print(\"\\n*** Top 5 For All Genres ***\")\n",
        "for vGenre in lGenres:\n",
        "    getGenreMovies(vGenre)"
      ],
      "metadata": {
        "colab": {
          "base_uri": "https://localhost:8080/"
        },
        "id": "JVCcLez4_u4Y",
        "outputId": "130bade2-e19c-4a3e-de04-d3ca967afa14"
      },
      "execution_count": null,
      "outputs": [
        {
          "output_type": "stream",
          "name": "stdout",
          "text": [
            "\n",
            "*** Top 5 For All Genres ***\n",
            "\n",
            "Genre: Action\n",
            "==============================================\n",
            "                         title  vote_count  vote_average     score\n",
            "12481          The Dark Knight       12269           8.3  8.297816\n",
            "1154   The Empire Strikes Back        5998           8.2  8.195703\n",
            "1910             Seven Samurai         892           8.2  8.171377\n",
            "43184         Band of Brothers         725           8.2  8.164874\n",
            "15480                Inception       14075           8.1  8.098238\n",
            "\n",
            "Genre: Adventure\n",
            "==============================================\n",
            "                         title  vote_count  vote_average     score\n",
            "5481             Spirited Away        3968           8.3  8.293258\n",
            "1154   The Empire Strikes Back        5998           8.2  8.195703\n",
            "9698      Howl's Moving Castle        2049           8.2  8.187461\n",
            "2884         Princess Mononoke        2041           8.2  8.187412\n",
            "15480                Inception       14075           8.1  8.098238\n",
            "\n",
            "Genre: Animation\",\"Children\n",
            "==============================================\n",
            "Empty DataFrame\n",
            "Columns: [title, vote_count, vote_average, score]\n",
            "Index: []\n",
            "\n",
            "Genre: Comedy\n",
            "==============================================\n",
            "                             title  vote_count  vote_average     score\n",
            "10309  Dilwale Dulhania Le Jayenge         661           9.1  9.048110\n",
            "2211             Life Is Beautiful        3643           8.3  8.292659\n",
            "351                   Forrest Gump        8147           8.2  8.196835\n",
            "18465             The Intouchables        5410           8.2  8.195237\n",
            "3189                   City Lights         444           8.2  8.143132\n",
            "\n",
            "Genre: Crime\n",
            "==============================================\n",
            "                          title  vote_count  vote_average     score\n",
            "314    The Shawshank Redemption        8358           8.5  8.496556\n",
            "834               The Godfather        6024           8.5  8.495224\n",
            "12481           The Dark Knight       12269           8.3  8.297816\n",
            "292                Pulp Fiction        8670           8.3  8.296910\n",
            "1178     The Godfather: Part II        3418           8.3  8.292177\n",
            "\n",
            "Genre: Documentary\n",
            "==============================================\n",
            "                                                  title  vote_count  \\\n",
            "43314                                   Planet Earth II          50   \n",
            "39079                                      Planet Earth         176   \n",
            "33416                                             Human          98   \n",
            "29181     The Jinx: The Life and Deaths of Robert Durst          85   \n",
            "13252  Dear Zachary: A Letter to a Son About His Father         146   \n",
            "\n",
            "       vote_average     score  \n",
            "43314           9.5  8.853035  \n",
            "39079           8.8  8.628936  \n",
            "33416           8.6  8.323908  \n",
            "29181           8.6  8.286127  \n",
            "13252           8.4  8.221680  \n",
            "\n",
            "Genre: Drama\n",
            "==============================================\n",
            "                             title  vote_count  vote_average     score\n",
            "10309  Dilwale Dulhania Le Jayenge         661           9.1  9.048110\n",
            "314       The Shawshank Redemption        8358           8.5  8.496556\n",
            "834                  The Godfather        6024           8.5  8.495224\n",
            "40245                   Your Name.        1030           8.5  8.472290\n",
            "7643            Sansho the Bailiff          68           8.7  8.304898\n",
            "\n",
            "Genre: Fantasy\n",
            "==============================================\n",
            "                                              title  vote_count  vote_average  \\\n",
            "5481                                  Spirited Away        3968           8.3   \n",
            "3030                                 The Green Mile        4166           8.2   \n",
            "9698                           Howl's Moving Castle        2049           8.2   \n",
            "2884                              Princess Mononoke        2041           8.2   \n",
            "7000  The Lord of the Rings: The Return of the King        8226           8.1   \n",
            "\n",
            "         score  \n",
            "5481  8.293258  \n",
            "3030  8.193818  \n",
            "9698  8.187461  \n",
            "2884  8.187412  \n",
            "7000  8.096987  \n",
            "\n",
            "Genre: Film-Noir\n",
            "==============================================\n",
            "Empty DataFrame\n",
            "Columns: [title, vote_count, vote_average, score]\n",
            "Index: []\n",
            "\n",
            "Genre: Horror\n",
            "==============================================\n",
            "                               title  vote_count  vote_average     score\n",
            "1176                          Psycho        2405           8.3  8.288895\n",
            "44671  Black Mirror: White Christmas         211           8.3  8.178652\n",
            "1213                     The Shining        3890           8.1  8.093636\n",
            "1171                           Alien        4564           7.9  7.895011\n",
            "36285     Michael Jackson's Thriller          90           8.1  7.851821\n",
            "\n",
            "Genre: Musical\n",
            "==============================================\n",
            "Empty DataFrame\n",
            "Columns: [title, vote_count, vote_average, score]\n",
            "Index: []\n",
            "\n",
            "Genre: Mystery\n",
            "==============================================\n",
            "                               title  vote_count  vote_average     score\n",
            "877                      Rear Window        1531           8.2  8.183246\n",
            "44671  Black Mirror: White Christmas         211           8.3  8.178652\n",
            "15480                      Inception       14075           8.1  8.098238\n",
            "46                             Se7en        5915           8.1  8.095811\n",
            "4099                         Memento        4168           8.1  8.094060\n",
            "\n",
            "Genre: Romance\n",
            "==============================================\n",
            "                             title  vote_count  vote_average     score\n",
            "10309  Dilwale Dulhania Le Jayenge         661           9.1  9.048110\n",
            "40245                   Your Name.        1030           8.5  8.472290\n",
            "351                   Forrest Gump        8147           8.2  8.196835\n",
            "1132               Cinema Paradiso         834           8.2  8.169410\n",
            "3189                   City Lights         444           8.2  8.143132\n",
            "\n",
            "Genre: Sci-Fi\n",
            "==============================================\n",
            "Empty DataFrame\n",
            "Columns: [title, vote_count, vote_average, score]\n",
            "Index: []\n",
            "\n",
            "Genre: Thriller\n",
            "==============================================\n",
            "                        title  vote_count  vote_average     score\n",
            "12481         The Dark Knight       12269           8.3  8.297816\n",
            "292              Pulp Fiction        8670           8.3  8.296910\n",
            "1176                   Psycho        2405           8.3  8.288895\n",
            "289    Leon: The Professional        4293           8.2  8.194000\n",
            "877               Rear Window        1531           8.2  8.183246\n",
            "\n",
            "Genre: War\n",
            "==============================================\n",
            "                        title  vote_count  vote_average     score\n",
            "522          Schindler's List        4436           8.3  8.293968\n",
            "5553   Grave of the Fireflies         974           8.2  8.173762\n",
            "43184        Band of Brothers         725           8.2  8.164874\n",
            "1138           Paths of Glory         565           8.2  8.155099\n",
            "5857              The Pianist        1927           8.1  8.087187\n",
            "\n",
            "Genre: Western\n",
            "==============================================\n",
            "                                  title  vote_count  vote_average     score\n",
            "1159     The Good, the Bad and the Ugly        2371           8.1  8.089577\n",
            "1166       Once Upon a Time in the West        1160           8.1  8.078788\n",
            "1209   The Treasure of the Sierra Madre         285           7.9  7.822651\n",
            "20049                  Django Unchained       10297           7.8  7.797883\n",
            "3559             For a Few Dollars More         988           7.8  7.778138\n"
          ]
        }
      ]
    },
    {
      "cell_type": "code",
      "source": [
        "# get top 5 based on genre of movie\n",
        "print(\"\\n*** Get Genre List Based On Current Movie ***\")\n",
        "vCrnntMovie = \"The Godfather\"\n",
        "print(vCrnntMovie)\n",
        "dfs = df[ df['title']==vCrnntMovie ]\n",
        "print(dfs)\n",
        "lGenres = dfs['genres']\n",
        "print(lGenres)\n",
        "try:\n",
        "    lGenres = dfs.iloc[0,3]\n",
        "    print(lGenres)\n",
        "    # get top 5 for all genres\n",
        "    for vGenre in lGenres:\n",
        "        print(\"\\n\" + vGenre)\n",
        "        getGenreMovies(vGenre)\n",
        "except:\n",
        "    print(\"Title Not Found ...\")"
      ],
      "metadata": {
        "colab": {
          "base_uri": "https://localhost:8080/"
        },
        "id": "JqsVG5ui_u6f",
        "outputId": "90fc4db0-60bd-4446-e037-b5689edcba70"
      },
      "execution_count": null,
      "outputs": [
        {
          "output_type": "stream",
          "name": "stdout",
          "text": [
            "\n",
            "*** Get Genre List Based On Current Movie ***\n",
            "The Godfather\n",
            "     adult                              belongs_to_collection   budget  \\\n",
            "834  False  {'id': 230, 'name': 'The Godfather Collection'...  6000000   \n",
            "\n",
            "             genres                      homepage   id    imdb_id  \\\n",
            "834  [Drama, Crime]  http://www.thegodfather.com/  238  tt0068646   \n",
            "\n",
            "    original_language original_title  \\\n",
            "834                en  The Godfather   \n",
            "\n",
            "                                              overview  ...    revenue  \\\n",
            "834  Spanning the years 1945 to 1955, a chronicle o...  ...  245066411   \n",
            "\n",
            "    runtime                                   spoken_languages    status  \\\n",
            "834   175.0  [{'iso_639_1': 'en', 'name': 'English'}, {'iso...  Released   \n",
            "\n",
            "                        tagline          title  video vote_average vote_count  \\\n",
            "834  An offer you can't refuse.  The Godfather  False          8.5       6024   \n",
            "\n",
            "        score  \n",
            "834  8.495224  \n",
            "\n",
            "[1 rows x 25 columns]\n",
            "834    [Drama, Crime]\n",
            "Name: genres, dtype: object\n",
            "['Drama', 'Crime']\n",
            "\n",
            "Drama\n",
            "\n",
            "Genre: Drama\n",
            "==============================================\n",
            "                             title  vote_count  vote_average     score\n",
            "10309  Dilwale Dulhania Le Jayenge         661           9.1  9.048110\n",
            "314       The Shawshank Redemption        8358           8.5  8.496556\n",
            "834                  The Godfather        6024           8.5  8.495224\n",
            "40245                   Your Name.        1030           8.5  8.472290\n",
            "7643            Sansho the Bailiff          68           8.7  8.304898\n",
            "\n",
            "Crime\n",
            "\n",
            "Genre: Crime\n",
            "==============================================\n",
            "                          title  vote_count  vote_average     score\n",
            "314    The Shawshank Redemption        8358           8.5  8.496556\n",
            "834               The Godfather        6024           8.5  8.495224\n",
            "12481           The Dark Knight       12269           8.3  8.297816\n",
            "292                Pulp Fiction        8670           8.3  8.296910\n",
            "1178     The Godfather: Part II        3418           8.3  8.292177\n"
          ]
        }
      ]
    },
    {
      "cell_type": "code",
      "source": [
        ""
      ],
      "metadata": {
        "id": "KlAaz5Pu-J6i"
      },
      "execution_count": null,
      "outputs": []
    },
    {
      "cell_type": "code",
      "source": [
        ""
      ],
      "metadata": {
        "id": "7Y121gGv-J-M"
      },
      "execution_count": null,
      "outputs": []
    },
    {
      "cell_type": "code",
      "source": [
        ""
      ],
      "metadata": {
        "id": "oQfTyvgX-KBl"
      },
      "execution_count": null,
      "outputs": []
    },
    {
      "cell_type": "code",
      "source": [
        ""
      ],
      "metadata": {
        "id": "G_Q6EXhi-KD6"
      },
      "execution_count": null,
      "outputs": []
    },
    {
      "cell_type": "code",
      "source": [
        ""
      ],
      "metadata": {
        "id": "3Ri2tabZ-KGi"
      },
      "execution_count": null,
      "outputs": []
    }
  ]
}